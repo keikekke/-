{
  "nbformat": 4,
  "nbformat_minor": 0,
  "metadata": {
    "colab": {
      "name": "平面の方程式.ipynb",
      "provenance": [],
      "authorship_tag": "ABX9TyPUmRnYhdbDcUkxrkqx9Ei9",
      "include_colab_link": true
    },
    "kernelspec": {
      "name": "python3",
      "display_name": "Python 3"
    }
  },
  "cells": [
    {
      "cell_type": "markdown",
      "metadata": {
        "id": "view-in-github",
        "colab_type": "text"
      },
      "source": [
        "<a href=\"https://colab.research.google.com/github/keikekke/sound-ray-tracing/blob/master/%E5%B9%B3%E9%9D%A2%E3%81%AE%E6%96%B9%E7%A8%8B%E5%BC%8F.ipynb\" target=\"_parent\"><img src=\"https://colab.research.google.com/assets/colab-badge.svg\" alt=\"Open In Colab\"/></a>"
      ]
    },
    {
      "cell_type": "markdown",
      "metadata": {
        "id": "ThG8xQyphoMJ"
      },
      "source": [
        "$xyz$空間上の3点が与えられたとき，それらの点のなす平面の方程式$ax+by+cz+d=0$の係数 `(a, b, c, d)` を返す関数"
      ]
    },
    {
      "cell_type": "code",
      "metadata": {
        "id": "zhg_fl96hkbg"
      },
      "source": [
        "import numpy as np\n",
        "\n",
        "def plane_coeff(p, q, r):\n",
        "    \"\"\" returns (a, b, c, d) for the plane with specified points p, q, and r \"\"\"\n",
        "    pr = np.array(r) - np.array(p)\n",
        "    pq = np.array(q) - np.array(p)\n",
        "    pr = pr / np.linalg.norm(pr)\n",
        "    pq = pq / np.linalg.norm(pq)\n",
        "    if np.linalg.norm(pr - pq) < 1e-5:\n",
        "        print('ERROR: the specified points are on a line')\n",
        "        return None\n",
        "    normal = np.cross(pq, pr)\n",
        "    a_, b_, c_ = normal\n",
        "    d_ = -np.array(p).dot(normal)\n",
        "    v = np.array([a_, b_, c_, d_])\n",
        "    m = min(list(filter(lambda x: x>1e-5, np.abs(v))))\n",
        "    a, b, c, d = v / m\n",
        "\n",
        "    return (a, b, c, d)"
      ],
      "execution_count": 35,
      "outputs": []
    },
    {
      "cell_type": "code",
      "metadata": {
        "id": "Qj1jYFS8js93",
        "outputId": "1ddb7bca-2e97-4932-fa38-7b1fe10cf828",
        "colab": {
          "base_uri": "https://localhost:8080/",
          "height": 34
        }
      },
      "source": [
        "plane_coeff((0,0,0), (0,0,2), (1,0,1))"
      ],
      "execution_count": 36,
      "outputs": [
        {
          "output_type": "execute_result",
          "data": {
            "text/plain": [
              "(0.0, 1.0, 0.0, -0.0)"
            ]
          },
          "metadata": {
            "tags": []
          },
          "execution_count": 36
        }
      ]
    },
    {
      "cell_type": "code",
      "metadata": {
        "id": "5-b5aVoRkeh0",
        "outputId": "b67b50cf-5f57-428f-ee73-6d03ca4746b4",
        "colab": {
          "base_uri": "https://localhost:8080/",
          "height": 34
        }
      },
      "source": [
        "plane_coeff((55,0,0), (55,0,20), (50,15,0))"
      ],
      "execution_count": 37,
      "outputs": [
        {
          "output_type": "execute_result",
          "data": {
            "text/plain": [
              "(-3.0, -1.0, 0.0, 165.0)"
            ]
          },
          "metadata": {
            "tags": []
          },
          "execution_count": 37
        }
      ]
    }
  ]
}